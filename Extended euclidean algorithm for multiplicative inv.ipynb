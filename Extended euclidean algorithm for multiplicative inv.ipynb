{
 "cells": [
  {
   "cell_type": "code",
   "execution_count": 1,
   "metadata": {},
   "outputs": [],
   "source": [
    "#Extended euclidean algorithm: ax + by = gcd(a,b)\n",
    "def ExtendedEuclidean(a,b):\n",
    "    #Base case\n",
    "    if(a == 0):\n",
    "        return b, 0, 1\n",
    "    else:\n",
    "        gcd, x, y = ExtendedEuclidean(b%a, a)\n",
    "        return (gcd, y - (b//a)*x, x)"
   ]
  },
  {
   "cell_type": "code",
   "execution_count": 2,
   "metadata": {},
   "outputs": [],
   "source": [
    "#A function that finds the multiplicative inverse of a mod n\n",
    "def MultiplicativeInverse(a,n):\n",
    "    gcd, x, y = ExtendedEuclidean(a,n)\n",
    "    #A multiplicative inverse only exists if a and n are relatively prime, so gcd must be 1\n",
    "    if(gcd == 1):\n",
    "        #Get rid of negative values\n",
    "        if(x < 1): \n",
    "            return x % n\n",
    "        return x\n",
    "    return 0"
   ]
  },
  {
   "cell_type": "code",
   "execution_count": 3,
   "metadata": {},
   "outputs": [
    {
     "name": "stdout",
     "output_type": "stream",
     "text": [
      "4\n"
     ]
    }
   ],
   "source": [
    "x= MultiplicativeInverse(7,9)\n",
    "print(x)"
   ]
  },
  {
   "cell_type": "code",
   "execution_count": 4,
   "metadata": {},
   "outputs": [
    {
     "name": "stdout",
     "output_type": "stream",
     "text": [
      "0\n"
     ]
    }
   ],
   "source": [
    "x= MultiplicativeInverse(2,8)\n",
    "print(x)"
   ]
  },
  {
   "cell_type": "code",
   "execution_count": 5,
   "metadata": {},
   "outputs": [
    {
     "name": "stdout",
     "output_type": "stream",
     "text": [
      "2\n"
     ]
    }
   ],
   "source": [
    "x= MultiplicativeInverse(14,9)\n",
    "print(x)"
   ]
  }
 ],
 "metadata": {
  "kernelspec": {
   "display_name": "Python 3",
   "language": "python",
   "name": "python3"
  },
  "language_info": {
   "codemirror_mode": {
    "name": "ipython",
    "version": 3
   },
   "file_extension": ".py",
   "mimetype": "text/x-python",
   "name": "python",
   "nbconvert_exporter": "python",
   "pygments_lexer": "ipython3",
   "version": "3.8.5"
  }
 },
 "nbformat": 4,
 "nbformat_minor": 4
}
