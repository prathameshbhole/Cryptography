{
 "cells": [
  {
   "cell_type": "code",
   "execution_count": 1,
   "metadata": {},
   "outputs": [
    {
     "name": "stdout",
     "output_type": "stream",
     "text": [
      "Enter your 4 digit pin:1010\n",
      "7a5df5ffa0dec2228d90b8d0a0f1b0767b748b0a41314c123075b8289e4e053f\n",
      "Enter Hash code: 7a5df5ffa0dec2228d90b8d0a0f1b0767b748b0a41314c123075b8289e4e053f\n",
      "Given hash code is of value:1010\n"
     ]
    }
   ],
   "source": [
    "import hashlib \n",
    "  \n",
    "#To Binary number \n",
    "def binary(n):\n",
    "    binary= bin(n).replace(\"0b\", \"\")\n",
    "    if n>=8:\n",
    "        return binary\n",
    "    else:\n",
    "        x = binary[::-1] \n",
    "        #This reverses an array\n",
    "        while len(x) < 4:\n",
    "            x += '0'\n",
    "        binary = x[::-1]\n",
    "        return binary\n",
    "\n",
    "a = 0\n",
    "\n",
    "pin = str(input (\"Enter your 4 digit pin:\"))\n",
    "pinh = hashlib.sha256(pin.encode())\n",
    "print(pinh.hexdigest())\n",
    "\n",
    "#Verification\n",
    "h = input(\"Enter Hash code: \")\n",
    "#Initializing string \n",
    "for i in range(16):\n",
    "    a = binary(i)\n",
    "    s = \"{}\".format(a)\n",
    "    #Sending to SHA256() \n",
    "    result = hashlib.sha256(s.encode()) \n",
    "    if(h==result.hexdigest()):\n",
    "        print('Given hash code is of value:% s'% s)\n",
    "    elif (i==15 and h==result.hexdigest()):\n",
    "        print('Given hash code is of value not in range from 0000 to 1111')\n",
    "        break\n",
    "    \n"
   ]
  },
  {
   "cell_type": "code",
   "execution_count": null,
   "metadata": {},
   "outputs": [],
   "source": []
  }
 ],
 "metadata": {
  "kernelspec": {
   "display_name": "Python 3",
   "language": "python",
   "name": "python3"
  },
  "language_info": {
   "codemirror_mode": {
    "name": "ipython",
    "version": 3
   },
   "file_extension": ".py",
   "mimetype": "text/x-python",
   "name": "python",
   "nbconvert_exporter": "python",
   "pygments_lexer": "ipython3",
   "version": "3.8.5"
  }
 },
 "nbformat": 4,
 "nbformat_minor": 4
}
