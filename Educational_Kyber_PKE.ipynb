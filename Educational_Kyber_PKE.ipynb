{
 "cells": [
  {
   "cell_type": "markdown",
   "metadata": {},
   "source": [
    "# Educational Kyber PKE (Toy Version)\n",
    "This notebook demonstrates a simplified and insecure version of the Kyber public key encryption scheme for educational purposes only."
   ]
  },
  {
   "cell_type": "code",
   "execution_count": 1,
   "metadata": {},
   "outputs": [],
   "source": [
    "# Step 0: Imports\n",
    "import numpy as np\n",
    "from hashlib import sha3_256\n",
    "from secrets import token_bytes"
   ]
  },
  {
   "cell_type": "code",
   "execution_count": 2,
   "metadata": {},
   "outputs": [],
   "source": [
    "# Step 1: Parameter Definitions\n",
    "q = 3329       # Prime modulus (same as Kyber)\n",
    "n = 8          # Polynomial degree (use 256 in real Kyber)\n",
    "eta = 2        # Noise distribution bound (uniform [-eta, eta])\n",
    "seed_bytes = 32"
   ]
  },
  {
   "cell_type": "code",
   "execution_count": 3,
   "metadata": {},
   "outputs": [],
   "source": [
    "# Step 2: Polynomial Arithmetic\n",
    "def poly_add(a, b):\n",
    "    return (a + b) % q\n",
    "\n",
    "def poly_sub(a, b):\n",
    "    return (a - b) % q\n",
    "\n",
    "def poly_mul(a, b):\n",
    "    res = np.zeros(2 * n - 1, dtype=int)\n",
    "    for i in range(n):\n",
    "        for j in range(n):\n",
    "            res[i + j] += a[i] * b[j]\n",
    "    for i in range(n, 2 * n - 1):\n",
    "        res[i - n] = (res[i - n] - res[i]) % q\n",
    "    return res[:n] % q"
   ]
  },
  {
   "cell_type": "code",
   "execution_count": 4,
   "metadata": {},
   "outputs": [],
   "source": [
    "# Step 3: Noise Sampling\n",
    "def sample_noise():\n",
    "    return np.random.randint(-eta, eta + 1, size=n) % q"
   ]
  },
  {
   "cell_type": "code",
   "execution_count": 5,
   "metadata": {},
   "outputs": [],
   "source": [
    "# Step 4: Key Generation\n",
    "def keygen():\n",
    "    A = np.random.randint(0, q, size=(n, n))\n",
    "    s = sample_noise()\n",
    "    e = sample_noise()\n",
    "    b = (A @ s + e) % q\n",
    "    return (A, b), s"
   ]
  },
  {
   "cell_type": "code",
   "execution_count": 6,
   "metadata": {},
   "outputs": [],
   "source": [
    "# Step 5: Encryption\n",
    "def encrypt(pk, m):\n",
    "    A, b = pk\n",
    "    m_poly = np.array([q // 2 if bit == '1' else 0 for bit in m] + [0] * (n - len(m)))\n",
    "    r = sample_noise()\n",
    "    e1 = sample_noise()\n",
    "    e2 = sample_noise()\n",
    "    u = (A.T @ r + e1) % q\n",
    "    v = (np.dot(b, r) + e2 + m_poly) % q\n",
    "    return u, v"
   ]
  },
  {
   "cell_type": "code",
   "execution_count": 7,
   "metadata": {},
   "outputs": [],
   "source": [
    "# Step 6: Decryption\n",
    "def decrypt(sk, ciphertext):\n",
    "    u, v = ciphertext\n",
    "    s = sk\n",
    "    m_rec = (v - np.dot(u, s)) % q\n",
    "    return ''.join(['1' if val > q//4 and val < 3*q//4 else '0' for val in m_rec[:4]])"
   ]
  },
  {
   "cell_type": "code",
   "execution_count": 12,
   "metadata": {},
   "outputs": [
    {
     "name": "stdout",
     "output_type": "stream",
     "text": [
      "Original Message:  1011\n",
      "Decrypted Message: 1011\n"
     ]
    }
   ],
   "source": [
    "# Step 7: Demonstration\n",
    "pk, sk = keygen()\n",
    "message = '1011'\n",
    "ciphertext = encrypt(pk, message)\n",
    "decrypted = decrypt(sk, ciphertext)\n",
    "\n",
    "print(\"Original Message: \", message)\n",
    "print(\"Decrypted Message:\", decrypted)"
   ]
  }
 ],
 "metadata": {
  "kernelspec": {
   "display_name": "lab",
   "language": "python",
   "name": "python3"
  },
  "language_info": {
   "codemirror_mode": {
    "name": "ipython",
    "version": 3
   },
   "file_extension": ".py",
   "mimetype": "text/x-python",
   "name": "python",
   "nbconvert_exporter": "python",
   "pygments_lexer": "ipython3",
   "version": "3.12.2"
  }
 },
 "nbformat": 4,
 "nbformat_minor": 2
}
