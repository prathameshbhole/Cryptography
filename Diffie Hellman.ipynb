{
 "cells": [
  {
   "cell_type": "code",
   "execution_count": 1,
   "metadata": {},
   "outputs": [],
   "source": [
    "from random import randint\n",
    "if __name__ == '__main__':\n",
    "\n",
    "    M = 29\n",
    "    N = 11\n",
    "    "
   ]
  },
  {
   "cell_type": "code",
   "execution_count": 2,
   "metadata": {},
   "outputs": [],
   "source": [
    "   #Alice private key \n",
    "def Alice(i):\n",
    "    a = 5\n",
    "\n",
    "    #Alice generated key\n",
    "    x = int(pow(N,a,M))\n",
    "    \n",
    "    # Shared secret key for Alice \n",
    "    if i>0:\n",
    "        y= Bob(0)\n",
    "        Sa = int(pow(y,a,M))  \n",
    "        print('''\\nThe Private Key 'a' for Alice is :%d'''%(a))\n",
    "        print('\\nShared secret key for the Alice is : %d'%(Sa))\n",
    "    i=-1\n",
    "    return x"
   ]
  },
  {
   "cell_type": "code",
   "execution_count": 3,
   "metadata": {},
   "outputs": [],
   "source": [
    " #Bob private key b\n",
    "def Bob(i):\n",
    "    b = 3\n",
    "        \n",
    "    #Bob generated key\n",
    "    y = int(pow(N,b,M))\n",
    "    \n",
    "    # Shared secret key for Bob \n",
    "    if i>0:\n",
    "        x= Alice(0)\n",
    "        Sb = int(pow(x,b,M))\n",
    "        print('''\\nThe Private Key 'b' for Bob is :%d'''%(b))\n",
    "        print('\\nShared secret Key for the Bob is : %d'%(Sb))\n",
    "    i=-1\n",
    "    return y"
   ]
  },
  {
   "cell_type": "code",
   "execution_count": 4,
   "metadata": {},
   "outputs": [
    {
     "name": "stdout",
     "output_type": "stream",
     "text": [
      "\n",
      "The Value of Public mod key M is :29\n",
      "\n",
      "The Value of Public key N is :11\n",
      "\n",
      "The Private Key 'a' for Alice is :5\n",
      "\n",
      "Shared secret key for the Alice is : 18\n",
      "\n",
      "The Private Key 'b' for Bob is :3\n",
      "\n",
      "Shared secret Key for the Bob is : 18\n"
     ]
    },
    {
     "data": {
      "text/plain": [
       "26"
      ]
     },
     "execution_count": 4,
     "metadata": {},
     "output_type": "execute_result"
    }
   ],
   "source": [
    "print('\\nThe Value of Public mod key M is :%d'%(M))\n",
    "print('\\nThe Value of Public key N is :%d'%(N))\n",
    "Alice(1)\n",
    "Bob(1)"
   ]
  }
 ],
 "metadata": {
  "kernelspec": {
   "display_name": "Python 3",
   "language": "python",
   "name": "python3"
  },
  "language_info": {
   "codemirror_mode": {
    "name": "ipython",
    "version": 3
   },
   "file_extension": ".py",
   "mimetype": "text/x-python",
   "name": "python",
   "nbconvert_exporter": "python",
   "pygments_lexer": "ipython3",
   "version": "3.8.5"
  }
 },
 "nbformat": 4,
 "nbformat_minor": 4
}
